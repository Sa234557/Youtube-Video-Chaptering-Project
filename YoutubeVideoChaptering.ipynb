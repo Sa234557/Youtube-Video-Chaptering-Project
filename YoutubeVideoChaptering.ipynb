{
  "nbformat": 4,
  "nbformat_minor": 0,
  "metadata": {
    "colab": {
      "provenance": [],
      "authorship_tag": "ABX9TyOX9WAE6/HL7x947lPnhrPZ",
      "include_colab_link": true
    },
    "kernelspec": {
      "name": "python3",
      "display_name": "Python 3"
    },
    "language_info": {
      "name": "python"
    }
  },
  "cells": [
    {
      "cell_type": "markdown",
      "metadata": {
        "id": "view-in-github",
        "colab_type": "text"
      },
      "source": [
        "<a href=\"https://colab.research.google.com/github/Sa234557/Youtube-Video-Chaptering-Project/blob/main/YoutubeVideoChaptering.ipynb\" target=\"_parent\"><img src=\"https://colab.research.google.com/assets/colab-badge.svg\" alt=\"Open In Colab\"/></a>"
      ]
    },
    {
      "cell_type": "code",
      "source": [
        "pip install youtube-transcript-api"
      ],
      "metadata": {
        "colab": {
          "base_uri": "https://localhost:8080/"
        },
        "id": "fKDXAWeRK5Ln",
        "outputId": "4924ac5d-d350-4f4d-e1bd-9cdf3e59904e"
      },
      "execution_count": 44,
      "outputs": [
        {
          "output_type": "stream",
          "name": "stdout",
          "text": [
            "Requirement already satisfied: youtube-transcript-api in /usr/local/lib/python3.10/dist-packages (0.6.2)\n",
            "Requirement already satisfied: requests in /usr/local/lib/python3.10/dist-packages (from youtube-transcript-api) (2.32.3)\n",
            "Requirement already satisfied: charset-normalizer<4,>=2 in /usr/local/lib/python3.10/dist-packages (from requests->youtube-transcript-api) (3.3.2)\n",
            "Requirement already satisfied: idna<4,>=2.5 in /usr/local/lib/python3.10/dist-packages (from requests->youtube-transcript-api) (3.10)\n",
            "Requirement already satisfied: urllib3<3,>=1.21.1 in /usr/local/lib/python3.10/dist-packages (from requests->youtube-transcript-api) (2.0.7)\n",
            "Requirement already satisfied: certifi>=2017.4.17 in /usr/local/lib/python3.10/dist-packages (from requests->youtube-transcript-api) (2024.8.30)\n"
          ]
        }
      ]
    },
    {
      "cell_type": "code",
      "source": [
        "import youtube_transcript_api"
      ],
      "metadata": {
        "id": "j5Ms0-2uKWng"
      },
      "execution_count": 45,
      "outputs": []
    },
    {
      "cell_type": "code",
      "source": [
        "import re\n",
        "import csv\n",
        "import pandas as pd\n",
        "import spacy\n",
        "import matplotlib.pyplot as plt\n",
        "from googleapiclient.discovery import build\n",
        "from youtube_transcript_api import YouTubeTranscriptApi\n",
        "from sklearn.feature_extraction.text import CountVectorizer\n",
        "from sklearn.decomposition import NMF\n",
        "\n",
        "# Load the SpaCy English model\n",
        "nlp = spacy.load('en_core_web_sm')\n",
        "\n",
        "API_KEY = 'your_api_key'\n",
        "\n",
        "def get_video_id(url: str) -> str:\n",
        "    \"\"\"Extracts video ID from a YouTube URL.\"\"\"\n",
        "    video_id_match = re.search(r'(?:v=|\\/)([0-9A-Za-z_-]{11}).*', url)\n",
        "    return video_id_match.group(1) if video_id_match else None\n",
        "\n",
        "def get_video_title(video_id: str) -> str:\n",
        "    \"\"\"Fetches the title of the YouTube video.\"\"\"\n",
        "    youtube = build('youtube', 'v3', developerKey=API_KEY)\n",
        "    request = youtube.videos().list(part='snippet', id=video_id)\n",
        "    response = request.execute()\n",
        "    return response['items'][0]['snippet']['title'] if response['items'] else 'Unknown Title'\n",
        "\n",
        "def get_video_transcript(video_id: str) -> list:\n",
        "    \"\"\"Fetches the transcript of the YouTube video.\"\"\"\n",
        "    try:\n",
        "        return YouTubeTranscriptApi.get_transcript(video_id)\n",
        "    except Exception as e:\n",
        "        print(f\"An error occurred: {e}\")\n",
        "        return []\n",
        "\n",
        "def save_to_csv(title: str, transcript: list, filename: str):\n",
        "    \"\"\"Saves the video title and transcript to a CSV file.\"\"\"\n",
        "    transcript_data = [{'start': entry['start'], 'text': entry['text']} for entry in transcript]\n",
        "    df = pd.DataFrame(transcript_data)\n",
        "    df.to_csv(filename, index=False)\n",
        "    with open(filename, 'a', newline='') as file:\n",
        "        writer = csv.writer(file)\n",
        "        writer.writerow(['Title:', title])\n",
        "\n",
        "def clean_text(text: str) -> str:\n",
        "    \"\"\"Cleans the text using SpaCy.\"\"\"\n",
        "    doc = nlp(text)\n",
        "    custom_stop_words = {'okay', 'we will see', 'um', 'uh', 'like', 'you know'}\n",
        "    filtered_tokens = [\n",
        "        token.text for token in doc\n",
        "        if not token.is_stop and not token.is_punct and token.text.lower() not in custom_stop_words\n",
        "    ]\n",
        "    return ' '.join(filtered_tokens)\n",
        "\n",
        "def analyze_transcript(transcript_df: pd.DataFrame):\n",
        "    \"\"\"Analyzes the transcript to identify topics and chapter breaks.\"\"\"\n",
        "    transcript_df['start'] = pd.to_numeric(transcript_df['start'], errors='coerce')\n",
        "\n",
        "    # Clean the text\n",
        "    transcript_df['cleaned_text'] = transcript_df['text'].apply(clean_text)\n",
        "\n",
        "    # Topic modeling using NMF\n",
        "    vectorizer = CountVectorizer(stop_words='english')\n",
        "    tf = vectorizer.fit_transform(transcript_df['cleaned_text'])\n",
        "\n",
        "    n_topics = 10\n",
        "    nmf = NMF(n_components=n_topics, random_state=42).fit(tf)\n",
        "    tf_feature_names = vectorizer.get_feature_names_out()\n",
        "\n",
        "    def display_topics(model, feature_names, no_top_words):\n",
        "        topics = []\n",
        "        for topic_idx, topic in enumerate(model.components_):\n",
        "            topic_words = [feature_names[i] for i in topic.argsort()[:-no_top_words - 1:-1]]\n",
        "            topics.append(\" \".join(topic_words))\n",
        "        return topics\n",
        "\n",
        "    topics = display_topics(nmf, tf_feature_names, 10)\n",
        "    print(\"\\nIdentified Topics:\")\n",
        "    for i, topic in enumerate(topics):\n",
        "        print(f\"Topic {i + 1}: {topic}\")\n",
        "\n",
        "\n",
        "\n",
        "def main():\n",
        "    url = input('Enter the YouTube video link: ')\n",
        "    video_id = get_video_id(url)\n",
        "\n",
        "    if not video_id:\n",
        "        print('Invalid YouTube URL.')\n",
        "        return\n",
        "\n",
        "    title = get_video_title(video_id)\n",
        "    transcript = get_video_transcript(video_id)\n",
        "\n",
        "    if not transcript:\n",
        "        print('No transcript available for this video.')\n",
        "        return\n",
        "\n",
        "    filename = f\"{video_id}_transcript.csv\"\n",
        "    save_to_csv(title, transcript, filename)\n",
        "    print(f'Transcript saved to {filename}')\n",
        "\n",
        "    # Load the transcript for analysis\n",
        "    transcript_df = pd.read_csv(filename)\n",
        "    analyze_transcript(transcript_df)\n",
        "\n",
        "if __name__ == '__main__':\n",
        "    main()"
      ],
      "metadata": {
        "colab": {
          "base_uri": "https://localhost:8080/"
        },
        "id": "fOiIrqXKLJ0G",
        "outputId": "4aa2bb1d-1e3d-4d7f-f374-f6217634d9a5"
      },
      "execution_count": 46,
      "outputs": [
        {
          "output_type": "stream",
          "name": "stdout",
          "text": [
            "Enter the YouTube video link: https://www.youtube.com/watch?v=Yxt72aDjFgY\n",
            "Transcript saved to Yxt72aDjFgY_transcript.csv\n",
            "\n",
            "Identified Topics:\n",
            "Topic 1: solar panels panel multiple module generate powered controller vast time\n",
            "Topic 2: light electricity produce means garden produced brighter faster voltage eye\n",
            "Topic 3: electrons holes free flow region flowing exist large form add\n",
            "Topic 4: silicon pure atoms layer use rods raw atom electricity shell\n",
            "Topic 5: energy large waves low generated rays gamma excess sun wavelength\n",
            "Topic 6: cell connected photons modules typically 72 60 use called 96\n",
            "Topic 7: power grid led use batteries excess connect night time home\n",
            "Topic 8: electron hole need layer flow volts knock attracted free leaving\n",
            "Topic 9: cells voltage connected modules use adds connect series 60 terminals\n",
            "Topic 10: battery charge charging charges controller need going use works dc\n"
          ]
        }
      ]
    },
    {
      "cell_type": "code",
      "source": [
        "import pandas as pd\n",
        "import numpy as np\n",
        "import matplotlib.pyplot as plt\n",
        "from sklearn.feature_extraction.text import TfidfVectorizer, CountVectorizer\n",
        "from sklearn.decomposition import NMF, LatentDirichletAllocation\n",
        "\n",
        "# load the dataset\n",
        "transcript_df = pd.read_csv(\"/content/Yxt72aDjFgY_transcript.csv\")\n",
        "print(transcript_df.head())"
      ],
      "metadata": {
        "colab": {
          "base_uri": "https://localhost:8080/"
        },
        "id": "iOCiYyigLKtF",
        "outputId": "f40da8bf-4555-44fe-e5ee-71087fec2514"
      },
      "execution_count": 57,
      "outputs": [
        {
          "output_type": "stream",
          "name": "stdout",
          "text": [
            "   start                                     text\n",
            "0   0.32   why are there crystals here but not on\n",
            "1   2.76  this one and how does solar panels even\n",
            "2   5.44    work let's find out you can now buy a\n",
            "3   7.72     mug and a hoodie to help support the\n",
            "4  9.599    channel links down below solar panels\n"
          ]
        }
      ]
    },
    {
      "cell_type": "code",
      "source": [
        "transcript_df['start'] = pd.to_numeric(transcript_df['start'], errors='coerce')\n",
        "\n",
        "print(\"Dataset Overview:\")\n",
        "print(transcript_df.info())\n",
        "print(\"\\nBasic Statistics:\")\n",
        "print(transcript_df.describe())"
      ],
      "metadata": {
        "colab": {
          "base_uri": "https://localhost:8080/"
        },
        "id": "_kG2oWRSLa7o",
        "outputId": "aabc25f4-c8bc-4f67-eea9-12ab19fa3c86"
      },
      "execution_count": 58,
      "outputs": [
        {
          "output_type": "stream",
          "name": "stdout",
          "text": [
            "Dataset Overview:\n",
            "<class 'pandas.core.frame.DataFrame'>\n",
            "RangeIndex: 508 entries, 0 to 507\n",
            "Data columns (total 2 columns):\n",
            " #   Column  Non-Null Count  Dtype  \n",
            "---  ------  --------------  -----  \n",
            " 0   start   507 non-null    float64\n",
            " 1   text    508 non-null    object \n",
            "dtypes: float64(1), object(1)\n",
            "memory usage: 8.1+ KB\n",
            "None\n",
            "\n",
            "Basic Statistics:\n",
            "             start\n",
            "count   507.000000\n",
            "mean    682.173702\n",
            "std     389.130806\n",
            "min       0.320000\n",
            "25%     345.620000\n",
            "50%     687.560000\n",
            "75%    1012.700000\n",
            "max    1345.440000\n"
          ]
        }
      ]
    },
    {
      "cell_type": "code",
      "source": [
        "transcript_df['text_length'] = transcript_df['text'].apply(len)\n",
        "plt.figure(figsize=(10, 5))\n",
        "plt.hist(transcript_df['text_length'], bins=50, color='blue', alpha=0.7)\n",
        "plt.title('Distribution of Text Lengths')\n",
        "plt.xlabel('Text Length')\n",
        "plt.ylabel('Frequency')\n",
        "plt.show()\n"
      ],
      "metadata": {
        "colab": {
          "base_uri": "https://localhost:8080/",
          "height": 487
        },
        "id": "QAgNU_IlLi1r",
        "outputId": "f712fad3-7d67-4f05-9284-c8944137578c"
      },
      "execution_count": 59,
      "outputs": [
        {
          "output_type": "display_data",
          "data": {
            "text/plain": [
              "<Figure size 1000x500 with 1 Axes>"
            ],
            "image/png": "[encoded data removed]"
          },
          "metadata": {}
        }
      ]
    },
    {
      "cell_type": "code",
      "source": [
        "vectorizer = CountVectorizer(stop_words='english')\n",
        "word_counts = vectorizer.fit_transform(transcript_df['text'])\n",
        "word_counts_df = pd.DataFrame(word_counts.toarray(), columns=vectorizer.get_feature_names_out())\n",
        "common_words = word_counts_df.sum().sort_values(ascending=False).head(20)\n",
        "plt.figure(figsize=(10, 5))\n",
        "common_words.plot(kind='bar', color='green', alpha=0.7)\n",
        "plt.title('Top 20 Common Words')\n",
        "plt.xlabel('Words')\n",
        "plt.ylabel('Frequency')\n",
        "plt.show()"
      ],
      "metadata": {
        "colab": {
          "base_uri": "https://localhost:8080/",
          "height": 546
        },
        "id": "9SSmCRs9Loip",
        "outputId": "2033d513-3506-4f82-dcf5-49e96ce1c5bd"
      },
      "execution_count": 60,
      "outputs": [
        {
          "output_type": "display_data",
          "data": {
            "text/plain": [
              "<Figure size 1000x500 with 1 Axes>"
            ],
            "image/png": "[encoded data removed]"
          },
          "metadata": {}
        }
      ]
    },
    {
      "cell_type": "code",
      "source": [
        "n_features = 1000\n",
        "n_topics = 10\n",
        "n_top_words = 10\n",
        "\n",
        "tf_vectorizer = CountVectorizer(max_df=0.95, min_df=2, stop_words='english')\n",
        "tf = tf_vectorizer.fit_transform(transcript_df['text'])\n",
        "nmf = NMF(n_components=n_topics, random_state=42).fit(tf)\n",
        "tf_feature_names = tf_vectorizer.get_feature_names_out()\n",
        "\n",
        "def display_topics(model, feature_names, no_top_words):\n",
        "    topics = []\n",
        "    for topic_idx, topic in enumerate(model.components_):\n",
        "        topic_words = [feature_names[i] for i in topic.argsort()[:-no_top_words - 1:-1]]\n",
        "        topics.append(\" \".join(topic_words))\n",
        "    return topics\n",
        "\n",
        "topics = display_topics(nmf, tf_feature_names, n_top_words)\n",
        "print(\"\\nIdentified Topics:\")\n",
        "for i, topic in enumerate(topics):\n",
        "    print(f\"Topic {i + 1}: {topic}\")"
      ],
      "metadata": {
        "colab": {
          "base_uri": "https://localhost:8080/"
        },
        "id": "EGhtbPjdLs1B",
        "outputId": "010c071b-03eb-43e8-efeb-a6b1c7225b9c"
      },
      "execution_count": 61,
      "outputs": [
        {
          "output_type": "stream",
          "name": "stdout",
          "text": [
            "\n",
            "Identified Topics:\n",
            "Topic 1: solar panels panel module generate powered make multiple controller vast\n",
            "Topic 2: light electricity produce garden means produced voltage eye material produces\n",
            "Topic 3: electrons holes free flow region flowing exist large add form\n",
            "Topic 4: silicon pure atoms layer use rods atom raw electricity shell\n",
            "Topic 5: energy large waves generated low excess sun wavelength reflected junction\n",
            "Topic 6: cell connected photons modules use typically 72 60 called absorbs\n",
            "Topic 7: power grid led use batteries excess night connect time leds\n",
            "Topic 8: electron hole need layer flow volts knock attracted free leaving\n",
            "Topic 9: cells just connected modules voltage multiple use connect adds volts\n",
            "Topic 10: battery charge controller charges charging need use inverter going dc\n"
          ]
        }
      ]
    },
    {
      "cell_type": "code",
      "source": [
        "topic_distribution = nmf.transform(tf)\n",
        "\n",
        "# align the lengths by trimming the extra row in topic_distribution\n",
        "topic_distribution_trimmed = topic_distribution[:len(transcript_df)]\n",
        "\n",
        "# compute the dominant topic for each text segment\n",
        "transcript_df['dominant_topic'] = topic_distribution_trimmed.argmax(axis=1)"
      ],
      "metadata": {
        "id": "phXhjU32LwWw"
      },
      "execution_count": 62,
      "outputs": []
    },
    {
      "cell_type": "code",
      "source": [
        "# analyze the content of each text segment to manually identify logical breaks\n",
        "logical_breaks = []\n",
        "\n",
        "for i in range(1, len(transcript_df)):\n",
        "    if transcript_df['dominant_topic'].iloc[i] != transcript_df['dominant_topic'].iloc[i - 1]:\n",
        "        logical_breaks.append(transcript_df['start'].iloc[i])"
      ],
      "metadata": {
        "id": "I28_X5ftLzAr"
      },
      "execution_count": 63,
      "outputs": []
    },
    {
      "cell_type": "code",
      "source": [
        "# consolidate the logical breaks into broader chapters\n",
        "threshold = 60  # seconds\n",
        "consolidated_breaks = []\n",
        "last_break = None\n",
        "\n",
        "for break_point in logical_breaks:\n",
        "    if last_break is None or break_point - last_break >= threshold:\n",
        "        consolidated_breaks.append(break_point)\n",
        "        last_break = break_point"
      ],
      "metadata": {
        "id": "riIZvl_jL1KH"
      },
      "execution_count": 64,
      "outputs": []
    },
    {
      "cell_type": "code",
      "source": [
        "final_chapters = []\n",
        "last_chapter = (consolidated_breaks[0], transcript_df['dominant_topic'][0])\n",
        "\n",
        "for break_point in consolidated_breaks[1:]:\n",
        "    current_topic = transcript_df[transcript_df['start'] == break_point]['dominant_topic'].values[0]\n",
        "    if current_topic == last_chapter[1]:\n",
        "        last_chapter = (last_chapter[0], current_topic)\n",
        "    else:\n",
        "        final_chapters.append(last_chapter)\n",
        "        last_chapter = (break_point, current_topic)\n",
        "\n",
        "final_chapters.append(last_chapter)"
      ],
      "metadata": {
        "id": "ciLKIAz8L3tv"
      },
      "execution_count": 65,
      "outputs": []
    },
    {
      "cell_type": "code",
      "source": [
        "chapter_points = []\n",
        "chapter_names = []\n",
        "\n",
        "for i, (break_point, topic_idx) in enumerate(final_chapters):\n",
        "    chapter_time = pd.to_datetime(break_point, unit='s').strftime('%H:%M:%S')\n",
        "    chapter_points.append(chapter_time)\n",
        "\n",
        "    # get the context for the chapter name\n",
        "    chapter_text = transcript_df[(transcript_df['start'] >= break_point) & (transcript_df['dominant_topic'] == topic_idx)]['text'].str.cat(sep=' ')\n",
        "\n",
        "    # extract key phrases to create a chapter name\n",
        "    vectorizer = TfidfVectorizer(stop_words='english', max_features=3)\n",
        "    tfidf_matrix = vectorizer.fit_transform([chapter_text])\n",
        "    feature_names = vectorizer.get_feature_names_out()\n",
        "    chapter_name = \" \".join(feature_names)\n",
        "\n",
        "    chapter_names.append(f\"Chapter {i+1}: {chapter_name}\")\n",
        "\n",
        "# display the final chapter points with names\n",
        "print(\"\\nFinal Chapter Points with Names:\")\n",
        "for time, name in zip(chapter_points, chapter_names):\n",
        "    print(f\"{time} - {name}\")"
      ],
      "metadata": {
        "colab": {
          "base_uri": "https://localhost:8080/"
        },
        "id": "CB_loxqSL6-h",
        "outputId": "a5a217be-5b9a-4640-cf54-73b806e9c96f"
      },
      "execution_count": 66,
      "outputs": [
        {
          "output_type": "stream",
          "name": "stdout",
          "text": [
            "\n",
            "Final Chapter Points with Names:\n",
            "00:00:02 - Chapter 1: cells solar voltage\n",
            "00:01:04 - Chapter 2: electron hole layer\n",
            "00:02:05 - Chapter 3: cells solar voltage\n",
            "00:03:07 - Chapter 4: electrons free holes\n",
            "00:04:07 - Chapter 5: cells modules voltage\n",
            "00:05:07 - Chapter 6: panel panels solar\n",
            "00:06:13 - Chapter 7: grid power use\n",
            "00:07:16 - Chapter 8: electricity light produce\n",
            "00:09:20 - Chapter 9: ac inverter learn\n",
            "00:10:20 - Chapter 10: electricity light produce\n",
            "00:11:22 - Chapter 11: energy sun wavelength\n",
            "00:12:23 - Chapter 12: cells solar used\n",
            "00:13:25 - Chapter 13: energy wavelength waves\n",
            "00:14:25 - Chapter 14: light produce solar\n",
            "00:15:27 - Chapter 15: atoms shell silicon\n",
            "00:16:30 - Chapter 16: energy nanom wavelength\n",
            "00:17:31 - Chapter 17: atoms outermost shell\n",
            "00:18:33 - Chapter 18: 10 engineering positive\n",
            "00:19:38 - Chapter 19: atoms outermost shell\n",
            "00:20:40 - Chapter 20: dc depletion electricity\n",
            "00:21:41 - Chapter 21: break electrons ends\n"
          ]
        }
      ]
    }
  ]
}